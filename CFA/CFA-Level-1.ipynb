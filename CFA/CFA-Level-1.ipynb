{
 "cells": [
  {
   "cell_type": "markdown",
   "metadata": {},
   "source": [
    "**Section 1: Quantitative Methods**"
   ]
  },
  {
   "cell_type": "code",
   "execution_count": 2,
   "metadata": {},
   "outputs": [
    {
     "name": "stdout",
     "output_type": "stream",
     "text": [
      "The correlation coefficient is 0.51\n"
     ]
    }
   ],
   "source": [
    "# Question 1: Assume that Security A has a standard deviation of 4.1% and Security B has a standard deviation of 9.3%. If the Covariance of the returns is 19.37, then the correlation coefficient between the securities is...\n",
    "cov = 19.37\n",
    "sigma_A = 4.1\n",
    "sigma_B = 9.3\n",
    "sigma_AB = round(cov/(sigma_A * sigma_B),2)\n",
    "print(f\"The correlation coefficient is {sigma_AB}\")"
   ]
  },
  {
   "cell_type": "code",
   "execution_count": 9,
   "metadata": {},
   "outputs": [
    {
     "name": "stdout",
     "output_type": "stream",
     "text": [
      "The Final Selling Price of the investment is $923.17\n"
     ]
    }
   ],
   "source": [
    "# Question 2: William purchased an investment for $600. He kept the investment for 5 years before selling it. If the internal rate of return for the 5-year period was 9%, the final selling price is:\n",
    "PV = 600\n",
    "N = 5\n",
    "r = 0.09\n",
    "pmt = 0\n",
    "FV = round(PV * (1 + r)**N,2)\n",
    "print(f\"The Final Selling Price of the investment is ${FV}\")"
   ]
  },
  {
   "cell_type": "code",
   "execution_count": 11,
   "metadata": {},
   "outputs": [
    {
     "name": "stdout",
     "output_type": "stream",
     "text": [
      "The Net Present value of Alpha Corporation's Investment is $1790258.63\n"
     ]
    }
   ],
   "source": [
    "# Question 3: Alpha Corporation's investment of $3.4 million produces the following cash flows: \n",
    "# Year 1: $2.1 Million, Year 2: $2.2 million, Year 3: $1.6 million\n",
    "# If the discount rate is 7% the investment's net present value (NPV) is:\n",
    "CF_0 = 3400000\n",
    "CF_1 = 2100000\n",
    "CF_2 = 2200000\n",
    "CF_3 = 1600000\n",
    "IRR = 0.07\n",
    "NPV = round(-CF_0 + (CF_1/((1+IRR)**1)) + (CF_2/((1+IRR)**2)) + (CF_3/((1+IRR)**3)),2)\n",
    "print(f\"The Net Present value of Alpha Corporation's Investment is ${NPV}\")"
   ]
  },
  {
   "cell_type": "code",
   "execution_count": 15,
   "metadata": {},
   "outputs": [
    {
     "name": "stdout",
     "output_type": "stream",
     "text": [
      "The Expected Return of the Security is 10.24 % \n"
     ]
    }
   ],
   "source": [
    "# Question 4: A security has a coefficient of variation of 1.27 and a standard deviation of 13%. The expected return of the security is:\n",
    "CV = 1.27\n",
    "sigma = 13 \n",
    "X_bar = round(sigma/CV,2)\n",
    "print(f\"The Expected Return of the Security is {X_bar} % \")\n"
   ]
  },
  {
   "cell_type": "code",
   "execution_count": 20,
   "metadata": {},
   "outputs": [
    {
     "name": "stdout",
     "output_type": "stream",
     "text": [
      "Jane has accumulated $33290.97 after 11 years\n"
     ]
    }
   ],
   "source": [
    "# Question 5: Jane has been investing $2,000 at the end of each year for the past 11 years. Assuming she has earned 8% compounded annually on her investmenst, she has accumulated:\n",
    "pmt = 2000\n",
    "N = 11\n",
    "r = 0.08\n",
    "PV = 0\n",
    "FV = round(pmt*((((1+r)**N)-1)/r),2)\n",
    "print(f\"Jane has accumulated ${FV} after 11 years\")"
   ]
  },
  {
   "cell_type": "code",
   "execution_count": null,
   "metadata": {},
   "outputs": [],
   "source": [
    "# Question 6: Beta Investment Company quotes an annual interest rate of 6.00%. If that rate is equal to an effective annual rate of 6.17%. then the investment company is compounding interest:\n",
    "air = 0.06\n",
    "ear = 0.0617\n",
    "# m = "
   ]
  },
  {
   "cell_type": "code",
   "execution_count": null,
   "metadata": {},
   "outputs": [],
   "source": [
    "# Question 7: Sam Purchased an investment for $30,000. He expects it will increase in value at a rate of 12% compounded annually for the nesxt 4 years. If his expectations are correct, at the end of the fourth year his investment will be worth:\n",
    "\n"
   ]
  },
  {
   "cell_type": "code",
   "execution_count": null,
   "metadata": {},
   "outputs": [],
   "source": [
    "# Question 8: Delta Corporation manufactured 6.86 Million units of product in 2016. Four years earlier, the company manufactured 7.33 million units. The compound annual growth rate of units manufactured from 2012 to 2016 is:\n"
   ]
  },
  {
   "cell_type": "code",
   "execution_count": null,
   "metadata": {},
   "outputs": [],
   "source": [
    "# Question 9: Beth wants to accumulate $95,000 in 7.5 years to purchase a rental property. She expects to earn an annual rate of 9.5% compounded quarterly. To achiever her goal, the amount that she needs to invest today is:\n",
    "\n"
   ]
  },
  {
   "cell_type": "code",
   "execution_count": null,
   "metadata": {},
   "outputs": [],
   "source": [
    "# Question 10: Steven's portfolio has a mean return of 15% a standard deviation of 7%., and a beta of 2.0. If the risk-free rate of return is 4%, the portfolio's Sharpe ratio is:"
   ]
  },
  {
   "cell_type": "code",
   "execution_count": null,
   "metadata": {},
   "outputs": [],
   "source": [
    "# Question 11: Gamma Corporation loans money at quated annual interest rate of 5.00%. If interest is compounded daily, the effective annual rate is:"
   ]
  },
  {
   "cell_type": "code",
   "execution_count": null,
   "metadata": {},
   "outputs": [],
   "source": [
    "# Question 12: A leading trade publication reports that Epsilon stock has a short interest of 5,869,121 shares, with an average daily trading volume of 4,018,472. The average declining volume is 2,102,554. The short interest ratio for Epsilon stock is:"
   ]
  },
  {
   "cell_type": "code",
   "execution_count": null,
   "metadata": {},
   "outputs": [],
   "source": [
    "# Question 13: Rose sued her former employer and won a judgement that provides her $2,000 at the end of each 6-month period for the next 5 years. If the account that holds her settlement earns an average annual rate of 7% compounded semiannually, the employer was initially required to pay Rose:"
   ]
  },
  {
   "cell_type": "code",
   "execution_count": null,
   "metadata": {},
   "outputs": [],
   "source": [
    "# Question 14: The averag annual return and the standard deviation of returns for three investments is provided in the following table: \n"
   ]
  },
  {
   "cell_type": "code",
   "execution_count": null,
   "metadata": {},
   "outputs": [],
   "source": [
    "# Question 15: Michael pruchased an investment for $315,000, which earned a return of -2% in the most recent year. In the previous three years, the investment returns were 5%, -1%, and 6% respectively. Asssuming all income has been reinvested, the standard deviation of the rates of return for the investment over the last four years is:"
   ]
  },
  {
   "cell_type": "code",
   "execution_count": null,
   "metadata": {},
   "outputs": [],
   "source": []
  },
  {
   "cell_type": "code",
   "execution_count": null,
   "metadata": {},
   "outputs": [],
   "source": []
  },
  {
   "cell_type": "code",
   "execution_count": null,
   "metadata": {},
   "outputs": [],
   "source": []
  },
  {
   "cell_type": "markdown",
   "metadata": {},
   "source": []
  },
  {
   "cell_type": "markdown",
   "metadata": {},
   "source": []
  },
  {
   "cell_type": "markdown",
   "metadata": {},
   "source": []
  },
  {
   "cell_type": "markdown",
   "metadata": {},
   "source": [
    "**Final Exam***\n",
    "    1. Heart Capital Calculations\n",
    "    2. GHOST CAPITAL Calculations\n",
    "    3. Ghost Financial Calculations"
   ]
  }
 ],
 "metadata": {
  "kernelspec": {
   "display_name": "Python 3",
   "language": "python",
   "name": "python3"
  },
  "language_info": {
   "codemirror_mode": {
    "name": "ipython",
    "version": 3
   },
   "file_extension": ".py",
   "mimetype": "text/x-python",
   "name": "python",
   "nbconvert_exporter": "python",
   "pygments_lexer": "ipython3",
   "version": "3.7.7"
  }
 },
 "nbformat": 4,
 "nbformat_minor": 4
}
