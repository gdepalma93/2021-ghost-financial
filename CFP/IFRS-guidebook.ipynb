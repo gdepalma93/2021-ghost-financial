{
 "cells": [
  {
   "cell_type": "markdown",
   "metadata": {},
   "source": [
    "## IFRS Conceptual Framwork  \n",
    "- **Objective of Financial Reporting**\n",
    "    The objective is to provide financial information about the reporting organization that is useful to readers in making decisions about providing resources to the organization, exercising voting rights, or buying or selling the entity's debt and equity instrubments. This means that information must be provided concerning its assets, liabilities, and efficiency of use of resources. Accrual accounting is mandated when financial information is prepared.  \n",
    "\n",
    "- **Qualitative Characteristics of financial reporting**  \n",
    "    Certain types of information are likely to be most useful to the readers of financial information. This information should be relevant, so that it makes a difference in decision making, either by having predictive value or by confirming existing information. The information should also faithfully represent the condition and results of an entity by being complete, neutral in how information is presented, and free from error. In addition, the following qualitative characteristics of financial information should be enhanced to the extent possible, given the constraint of the cost of financial reporting: \n",
    "    - **Comparability**; The information should be comparable to similar information released by other entities.\n",
    "    - **Faithful representation**; The information should faithfully represent the substance of the organization's transactions, which requires that it be complete, neutral, and free from error.\n",
    "    - **Relevance.**; The information shoud be capable of making a difference in the decisions being made by users. This is the case when the information has predictive value or when it confirms previous evaluations. \n",
    "    - **Verifiability**; Multiple parties can reach a consensus that the information presented is a faithful representation of the reporting entity.  \n",
    "    - **Timeliness**; The information should be presented quickly enough to assist in decision-making.\n",
    "    - **Understandability**; The information is clearly classified and presented\n",
    "- **Financial Statements and the reporting Entity**  \n",
    "    The key financial statements used to portray an etity are the balance sheet and income statement. The balance sheet is comprised of assets, liabilities, and equity, while the income statement is comprised of income and espenses. Other financial statements and footnotes should present information about the nature of recognized assets, liabilities, equity, income and expenses, along with their associated risks. Additional information should include any assets and liabilities that have not been recognized, cash flows, any contributions from the holders of equity claims and distributions to them, and finally the methods, assumptions, and judgements used in the estimation of the amounts in the financial statements.   \n",
    "    An organization's financial statements are typically prepared on the assumption that it is a going concern, and so will continue in operation for the foreseeable future. If this is not the case, its financial statements may need to be prepared using a different basis of accounting. If so, the financial statements should identify the basis being used. \n",
    "    The reporting entity can be a single organization, or it may be a portion of a larger entity. When a parent entity has control over one or more subsidiaries, and its reporting comprises the financial statements of both the parent and the subsidiaries, the statements are referred to as consolidated financial statements. However, when the parent entity is only reporting its own results, not including those of its subsidiaries, the statements are referred to as unconsolidated financial statements. Another variation is when the reporting entity is comprised of two or more entities where there is no parent-subsidiary relationship; in this case, the financial statements are refferred to as combined financial statments.\n",
    "- **Definition, Recognition, and measurement of the financial statement components** These components of the financial statements are defined as follows:\n",
    "    - Assets. These are resources controlled by an organization, and from which it expects to derive future economic benefits. Thes benefits may involve operational actgivities or convertibility into cash.  \n",
    "    - Liabilities. These are obligations arising from past events. A liability may also arise from an irrevocable agreement to acquire an asset on a future date. Some liabilities can only be measured through estimation, since the exact amounts of these liabilities have not yet been settled.  \n",
    "    - Equity. This is the residual interest in an organization's assets after deducting all liabilities. This interest may include invested funds and reserves against future expenditures.  \n",
    "    - Income. This is increases in economic benefits that are derived from either inflows of assets or decreases in liabilites, other than investor contributions. The income concept can be split further into revenue and gains, where revenue arises from ordinary activities and gains are a catchall phrase arising from other activities. An example of a gain is from the sales of a long-term asset. \n",
    "    - Expenses This is the decreases in assets or increases in liabilities, resulting in equity decreases, other than distributions to holders of equity claims. The expenses concept can be split further into expenses and losses, where expenses arise from ordinary activities and losses are a catchall phrase arising from other activities. An example of a loss is the destruction caused by flood damage. \n",
    "- **Recognition and Derecognition  \n",
    "    Recognition is the process of incorporating an item into the financial statements if it meets the criteria for recognition, and can be defined as an element of the financial statements. More specifically, recegnition occurs when the following conditions are met.\n",
    "    - Probable benefit. It is probable that the organization will derive a benefit from the item  \n",
    "    - Measurable. The item has a cost or benefit that can be reliably measured. The use of reasonable estimates is allowable.\n",
    "    For example, a foavorable outcome of a lawsuit cannot be recognized until such time as the settlement has been approved and the amount to be paide has been determined. Prior to that date, there is no way to recognize the gain. \n",
    "    The amount at which an asset, liability, or equity items is recognized into the balance sheet is called its carrying amount.  \n",
    "    The reverse of recognition is derecognition, which occurs when all or part of a recognized asset or liability is removed from the balance sheet. This action occurs when an item no longer meets the definition of an asset or liability. For an asset, this means that the organization no longer controls the asset. For a liability, derecognition occurs when the entity no longer has an obligation.   \n",
    "- **Presentation and Disclosure**  \n",
    "    - To be effective, the disclosure of information in a set of financial statements needs to focus on the classification of information in a manner that groups similar items and separates dissimilar items. Further, proper disclosure should aggregate information at a level that does not obscure key information, while not overloading the user with an unnecessary level of detail. These decisions are influenced by whether the benefits to users justify the cost of developing the information.  \n",
    "- **Concepts of Capital and capital maintenance**  \n",
    "    Concepts of capital and capital maintenance. A financial concept of capital means that the net assets of the business contribute to performance. Under a physical concept of capital, the productive capiacity of the business is emphasized. The financial concept of capital is most commonly used, as it emphasizes maintenance of invested capital and/or the purchasing power of that capital. Undder the financial concept of capital, a profit is only earned when the net assets at the end of a period exceed the amount att the beginning of the period, excluding the effects of owner distributions and contributions. Under the physical concept of capital, a profit is only earned when the physical productive capacity at the end of a period exceeds the amount at the beginning othe period, excluding the effects of owner distributions and contributions. Changes in prices under the financial concept of capital are recognized as a profit or loss ((depending on the circumstances), while such changes under the physical concept are considered to be adjustments to equity.\n",
    "- **Historical Cost**  \n",
    "    Assets are recorded at the amounts paid for them, and liabilities are recorded at the amount of proceeds received in exchange for incurring each obligation. This is the most commonly used basis of measurement.   \n",
    "- **Current Cost**   \n",
    "    The amounts assigned to assets and liabilities are based on current conditions at\\ the measurement date. Changes from the last measurement date may be triggered by changes in cash flow estimatees and other factors. Curreent value is not derived from the original price of an asset or the original amount of an obligation. The various ways to arrive at current value are: \n",
    "        - Fair value. The price that would be received to sell an asset, or else paid to treansfer a liability, in an orderly market transaction between market participants.  \n",
    "        - Value in use (assets). The present value of the cash flows or other economic benefits expected to be derived from the use of an ssset and its eventual disposal.   \n",
    "        - Fulfillment value(liabilities). the present value of the cash or other economic resources expected to be transferred to settle a liability. \n",
    "        - Current Cost. The cost of an equivalent asset at the measurement date, including the consideration paid and any associated transaction costs incurred.   \n",
    "        \n",
    "        \n",
    "\n",
    "## Accounting Principles  \n",
    "- **Accrual Principle**  \n",
    "    The concept of that accounting transactions should be recordied in the accounting periods when they actually occur, rather than in the periods when there are cash flows associated with them. This is the foundation of the accrual basis of accounti8ng. It is important for the construction of financial statements thtat show what actually happened in an accounting period, rather than being artificially delayed or accelerated by the associated cash flows. For example, if an entity were to ignore the accrual principle, it would record an expense only after paying for it, which might incorporate a lengthy delay caused by the payment terms for the associated supplier invoice. \n",
    "- **Conservatism Principle**   \n",
    "    The concept that a business should record expenses and liabilities as soon as possible, but record revenues and assets only when it is certain that they will occur. This introduces a conservative slant to the financial statements that may yield lower reported profits, since revenue and asset recognition may be delayed for some time. This principle tends to encourage the recordation of losses earlier, rather than later. This concept can be taken too far, where a business persistently misstates its results to be worse than is realistically the case.   \n",
    "    \n",
    "- **Consistency Principle**    \n",
    "    The concept that, once an accounting principle or method is adopted, an organization should continue to use it until a demonstrably better principle or method comes along. Not following the consistency principle means that a business could continually jump between different accounting treatments of its transactions that make its long-term financial results exteremely difficult to discern. \n",
    "- **Cost Principle**  \n",
    "    The concept that a business should only record its assets, liabilities, and equity investments at their original purchase costs. This principle is becoming less valid, as a host of accounting standards are heading in the direction of adjusting to fair value.  \n",
    "\n",
    "- **Economic entity Principle**  \n",
    "   THe concept that the transactions of a business should be kept separate form those of its owners and other businesses. This prevents intermingling of assets and liabilities among multiple entities.  \n",
    "- **Full disclosure Principle**  \n",
    "    The concept that one should include in or alongside the financial statements of a business all of the information that may impact a reader's understanding of those financial statements. The accounting standards have greatly amplified upon this concept in specifying an enormous number of informational disclosures.  \n",
    "- **Going Concern Principle**   \n",
    "    The concept that a business will remain in operation for the foreseeable future. This means that the accountant would be justified in deferring recognition of some expenses, such as depreciation, until later periods. Otherwise, it would be necessary to recognize all expenses at once and not defer any of them. \n",
    "- **Matching Principle**   \n",
    "    The concept that, when revenue is recorded, all related expenses should be recorded at the same time. Thus, investory is charged to the cost of goods sold at the same time that revenue is recorded from the sale of those inventory items. This is a cornerstone of the accrual basis of accounting. \n",
    "- **Materiality Principle**  \n",
    "    The concept that a transaction should be recorded in the accounting records if not doing so might have altered the decision making process of someone reading the company's financial statements. This quite a vague concept that is difficult to quantify, which has led some of the more picayune controllers to record even the smallest transactions. \n",
    "- **Monetary Unit Principle**  \n",
    "    The concept that a business should only record transactions that can be stated in terms of a unit of currency. Thus, it is easy enough to record the purchase of a fixed asset, since it was bought for a specific price, whereas the value of the quality control system of a business is not recorded. This concept keeps a business from engaging in an excessive level of estimation in deriving the value of its assets and liabilities\n",
    "\n",
    "- **Reliability Principle**   \n",
    "    The concept that only those transactions that can be proven should be recorded. For example, a supplier invoice is solid evidence That an expense has been recorded. This concept is of prime interest to auditors, who are constantly in search of the evidence supporting transactions.  \n",
    "    \n",
    "- **Revenue Recognition Principle**  \n",
    "    The concept that revenue should only be recognized when a business has substantially completed the earnings process. So many people have skirted around the fringes of this concept to commit reporting fraud that a variety of standard-setting bodies have developed a massive amount of information about what constitutes proper revenue recognition. Being principles-based, IFRS coverage of this topic remains at a relatively high level.  \n",
    "- **Time Period Principle**  \n",
    "    The concept that business should report the results of its operations over a standard period of time. This may qualify as the most glaringly obvious of all accounting principles, but is intended to create a standard set of comparable periods, which is useful for trend analysis.   \n"
   ]
  },
  {
   "cell_type": "markdown",
   "metadata": {},
   "source": [
    "# Presentation of Financial Statements\n",
    "\n",
    "## Overview of Financial Statements\n",
    "___\n",
    "\n",
    "A complete set of financial statements includes the following items: \n",
    "- **Balance Sheet** : A statement of financial position  \n",
    "- **Income Statement** : A statement of profit or loss and other comprehensive Income  \n",
    "- **Changes in Equity** : A statement of changes in equity  \n",
    "- **Cash Flow Statement** : A statement of cash flows  \n",
    "- Notes that describe significant accounting policies and other information  \n",
    "\n",
    "\n",
    "**Issues related to the presentation of financial statements**  \n",
    "- **Accrual Basis** : Financial Statements shall be prepared using the accrual basis of accounting, so that revenues are recognized when earned and expenses recognized as incurred.\n",
    "- **Aggregation**  : Do not reduce the understandability of the finacnial statements by aggregating material items that \n",
    "    \n",
    "- **Comparative Information**  \n",
    "- **"
   ]
  },
  {
   "cell_type": "markdown",
   "metadata": {},
   "source": [
    "# Statement of CashFlows"
   ]
  },
  {
   "cell_type": "markdown",
   "metadata": {},
   "source": [
    "# Consolidated and separate financial statements"
   ]
  },
  {
   "cell_type": "markdown",
   "metadata": {},
   "source": [
    "# Interim Financial Reporting# "
   ]
  },
  {
   "cell_type": "markdown",
   "metadata": {},
   "source": [
    "# Investments in Associates and Joint Ventures  "
   ]
  },
  {
   "cell_type": "markdown",
   "metadata": {},
   "source": [
    "# Disclosure of Interest in other entities"
   ]
  },
  {
   "cell_type": "markdown",
   "metadata": {},
   "source": [
    "# Inventories  "
   ]
  },
  {
   "cell_type": "markdown",
   "metadata": {},
   "source": [
    "# Property, Plant and Equipment  "
   ]
  },
  {
   "cell_type": "markdown",
   "metadata": {},
   "source": [
    "# Intangible Assets "
   ]
  },
  {
   "cell_type": "markdown",
   "metadata": {},
   "source": [
    "# Revenue Recognition"
   ]
  },
  {
   "cell_type": "markdown",
   "metadata": {},
   "source": [
    "# Employee Benefits and Retirement Plans"
   ]
  },
  {
   "cell_type": "markdown",
   "metadata": {},
   "source": [
    "# Income Taxes"
   ]
  },
  {
   "cell_type": "markdown",
   "metadata": {},
   "source": [
    "# Business Combinations"
   ]
  },
  {
   "cell_type": "markdown",
   "metadata": {},
   "source": [
    "# Financial Instruments"
   ]
  },
  {
   "cell_type": "markdown",
   "metadata": {},
   "source": [
    "# Fair Value Measurement  "
   ]
  },
  {
   "cell_type": "markdown",
   "metadata": {},
   "source": [
    "# Effects of Changes in Foreign Exchange Rates  "
   ]
  },
  {
   "cell_type": "markdown",
   "metadata": {},
   "source": [
    "# Borrowing Costs"
   ]
  },
  {
   "cell_type": "markdown",
   "metadata": {},
   "source": [
    "# Leases  "
   ]
  },
  {
   "cell_type": "markdown",
   "metadata": {},
   "source": [
    "# Insurance Contracts "
   ]
  },
  {
   "cell_type": "markdown",
   "metadata": {},
   "source": [
    "# Related Party Disclosures"
   ]
  },
  {
   "cell_type": "markdown",
   "metadata": {},
   "source": [
    "# Events after Reporting Period"
   ]
  },
  {
   "cell_type": "code",
   "execution_count": null,
   "metadata": {},
   "outputs": [],
   "source": [
    "# "
   ]
  }
 ],
 "metadata": {
  "kernelspec": {
   "display_name": "Python 3",
   "language": "python",
   "name": "python3"
  },
  "language_info": {
   "codemirror_mode": {
    "name": "ipython",
    "version": 3
   },
   "file_extension": ".py",
   "mimetype": "text/x-python",
   "name": "python",
   "nbconvert_exporter": "python",
   "pygments_lexer": "ipython3",
   "version": "3.7.7"
  }
 },
 "nbformat": 4,
 "nbformat_minor": 4
}
